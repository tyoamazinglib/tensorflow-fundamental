{
  "cells": [
    {
      "cell_type": "code",
      "execution_count": null,
      "metadata": {
        "colab": {
          "base_uri": "https://localhost:8080/"
        },
        "id": "HR-Qly92Gi-m",
        "outputId": "261bd7c2-9934-4ac4-aef6-9b47c5a8b8bd"
      },
      "outputs": [
        {
          "output_type": "stream",
          "name": "stdout",
          "text": [
            "2.8.0\n"
          ]
        }
      ],
      "source": [
        "import tensorflow as tf\n",
        "print(tf.__version__)"
      ]
    },
    {
      "cell_type": "markdown",
      "metadata": {
        "id": "oxafq9BGPY_1"
      },
      "source": [
        "## Creating tensor with `tf.Variable`"
      ]
    },
    {
      "cell_type": "code",
      "execution_count": null,
      "metadata": {
        "colab": {
          "base_uri": "https://localhost:8080/"
        },
        "id": "on8cWMo9PCFi",
        "outputId": "9b4b80ef-849b-4c04-d2d8-a71cbaaf0633"
      },
      "outputs": [
        {
          "output_type": "execute_result",
          "data": {
            "text/plain": [
              "tensorflow.python.ops.variables.Variable"
            ]
          },
          "metadata": {},
          "execution_count": 2
        }
      ],
      "source": [
        "tf.Variable"
      ]
    },
    {
      "cell_type": "code",
      "execution_count": null,
      "metadata": {
        "colab": {
          "base_uri": "https://localhost:8080/"
        },
        "id": "qsEyBzx1PhJn",
        "outputId": "f2a6c539-edda-4609-8d45-ef2b234d58e6"
      },
      "outputs": [
        {
          "output_type": "execute_result",
          "data": {
            "text/plain": [
              "(<tf.Variable 'Variable:0' shape=(2,) dtype=int32, numpy=array([10,  7], dtype=int32)>,\n",
              " <tf.Tensor: shape=(2,), dtype=int32, numpy=array([5, 6], dtype=int32)>)"
            ]
          },
          "metadata": {},
          "execution_count": 3
        }
      ],
      "source": [
        "changeable_tensor = tf.Variable([10, 7])\n",
        "unchangeable_tensor = tf.constant([5, 6])\n",
        "changeable_tensor, unchangeable_tensor"
      ]
    },
    {
      "cell_type": "code",
      "execution_count": null,
      "metadata": {
        "colab": {
          "base_uri": "https://localhost:8080/"
        },
        "id": "2zZv9wMyQRSS",
        "outputId": "799cba5a-2c3b-49ff-f2c0-facfdbf6de0f"
      },
      "outputs": [
        {
          "output_type": "execute_result",
          "data": {
            "text/plain": [
              "<tf.Variable 'Variable:0' shape=(2,) dtype=int32, numpy=array([2, 7], dtype=int32)>"
            ]
          },
          "metadata": {},
          "execution_count": 4
        }
      ],
      "source": [
        "changeable_tensor[0].assign(2)\n",
        "changeable_tensor\n"
      ]
    },
    {
      "cell_type": "markdown",
      "metadata": {
        "id": "T-g2jW-PRJP6"
      },
      "source": [
        "## Create a Random Tensors"
      ]
    },
    {
      "cell_type": "code",
      "execution_count": null,
      "metadata": {
        "colab": {
          "base_uri": "https://localhost:8080/"
        },
        "id": "vgvNhqvcRQnK",
        "outputId": "3277f4d2-8d78-46d8-9cd3-3a77b8e5ee07"
      },
      "outputs": [
        {
          "output_type": "execute_result",
          "data": {
            "text/plain": [
              "<tf.Tensor: shape=(3, 3), dtype=float32, numpy=\n",
              "array([[-0.14371012, -0.34646833,  1.1456194 ],\n",
              "       [-0.416     ,  0.43369916,  1.0241015 ],\n",
              "       [-0.74785167, -0.59090924, -1.2060374 ]], dtype=float32)>"
            ]
          },
          "metadata": {},
          "execution_count": 5
        }
      ],
      "source": [
        "#create first matrices\n",
        "random_matrices_1 = tf.random.Generator.from_seed(25)\n",
        "random_matrices_1 = random_matrices_1.normal(shape=(3, 3))\n",
        "random_matrices_1"
      ]
    },
    {
      "cell_type": "code",
      "execution_count": null,
      "metadata": {
        "colab": {
          "base_uri": "https://localhost:8080/"
        },
        "id": "3fB17Ad8TIqA",
        "outputId": "1e25ffba-74e3-49e3-cd1c-cb739a91b788"
      },
      "outputs": [
        {
          "output_type": "execute_result",
          "data": {
            "text/plain": [
              "<tf.Tensor: shape=(3, 3), dtype=float32, numpy=\n",
              "array([[ 0.88051325, -1.6833194 ,  0.86754173],\n",
              "       [-0.19625713, -1.322665  , -0.02279496],\n",
              "       [-0.1383193 ,  0.44207528, -0.7531523 ]], dtype=float32)>"
            ]
          },
          "metadata": {},
          "execution_count": 6
        }
      ],
      "source": [
        "#create another matrices\n",
        "random_matrices_2 = tf.random.Generator.from_seed(20)\n",
        "random_matrices_2 = random_matrices_2.normal(shape=(3,3))\n",
        "random_matrices_2"
      ]
    },
    {
      "cell_type": "markdown",
      "metadata": {
        "id": "byjG2iyzTWPq"
      },
      "source": [
        "# PERHATIAN!!!\n",
        "`from_seed` untuk mengatur konsistensi dari matriks tersebut, contoh jika `from_seed` sama, maka matriks akan bernilai sama"
      ]
    },
    {
      "cell_type": "code",
      "execution_count": null,
      "metadata": {
        "id": "E7JTpQmyTU1v"
      },
      "outputs": [],
      "source": [
        "sum_of_random = random_matrices_1 * random_matrices_2"
      ]
    },
    {
      "cell_type": "code",
      "execution_count": null,
      "metadata": {
        "colab": {
          "base_uri": "https://localhost:8080/"
        },
        "id": "Qmm8A4WtU_xe",
        "outputId": "6dcdc143-4b28-4460-f376-8ca78aefb194"
      },
      "outputs": [
        {
          "output_type": "execute_result",
          "data": {
            "text/plain": [
              "<tf.Tensor: shape=(3, 3), dtype=float32, numpy=\n",
              "array([[-0.12653866,  0.5832169 ,  0.99387264],\n",
              "       [ 0.08164297, -0.5736387 , -0.02334435],\n",
              "       [ 0.10344232, -0.26122636,  0.90832984]], dtype=float32)>"
            ]
          },
          "metadata": {},
          "execution_count": 8
        }
      ],
      "source": [
        "sum_of_random"
      ]
    },
    {
      "cell_type": "markdown",
      "metadata": {
        "id": "fKZ3wIsVW6Wk"
      },
      "source": [
        "## Shuffle the order elements of tensor"
      ]
    },
    {
      "cell_type": "code",
      "execution_count": null,
      "metadata": {
        "colab": {
          "base_uri": "https://localhost:8080/"
        },
        "id": "jw9VrqRuVEbf",
        "outputId": "b01ab21a-35bb-4fd7-cd7a-0141f63a7802"
      },
      "outputs": [
        {
          "output_type": "stream",
          "name": "stdout",
          "text": [
            "Before : \n",
            "[[10 11]\n",
            " [ 5  6]\n",
            " [12  1]]\n",
            "\n",
            "After: \n",
            "[[10 11]\n",
            " [12  1]\n",
            " [ 5  6]]\n"
          ]
        }
      ],
      "source": [
        "#non shuffle matrices\n",
        "tf.random.set_seed(20)\n",
        "a_matrices = tf.constant([[10, 11],\n",
        "                          [5, 6],\n",
        "                          [12, 1]])\n",
        "\n",
        "a_shuffled_matrices = tf.random.shuffle(a_matrices)\n",
        "\n",
        "print(f'Before : \\n{a_matrices}\\n\\nAfter: \\n{a_shuffled_matrices}')"
      ]
    },
    {
      "cell_type": "markdown",
      "metadata": {
        "id": "qZcp8PtcV7lR"
      },
      "source": [
        "## Otherways to make tensors"
      ]
    },
    {
      "cell_type": "code",
      "execution_count": null,
      "metadata": {
        "id": "OlOKYD8CXl1P"
      },
      "outputs": [],
      "source": [
        "#using numpy \n",
        "import numpy as np"
      ]
    },
    {
      "cell_type": "code",
      "execution_count": null,
      "metadata": {
        "colab": {
          "base_uri": "https://localhost:8080/"
        },
        "id": "d_H6f_2cVxf8",
        "outputId": "3d8cb1b1-a96f-4afe-a1bf-201eb01a0a66"
      },
      "outputs": [
        {
          "output_type": "execute_result",
          "data": {
            "text/plain": [
              "array([ 1,  2,  3,  4,  5,  6,  7,  8,  9, 10, 11, 12, 13, 14, 15, 16, 17,\n",
              "       18, 19, 20, 21, 22, 23, 24, 25, 26, 27, 28, 29, 30, 31, 32, 33, 34,\n",
              "       35, 36], dtype=int32)"
            ]
          },
          "metadata": {},
          "execution_count": 11
        }
      ],
      "source": [
        "numpy_A = np.arange(1, 37, dtype=np.int32)\n",
        "numpy_A"
      ]
    },
    {
      "cell_type": "code",
      "execution_count": null,
      "metadata": {
        "colab": {
          "base_uri": "https://localhost:8080/"
        },
        "id": "qJ5Ner_tZhpf",
        "outputId": "d9d4249a-fdf0-4451-f634-73a8f1210f58"
      },
      "outputs": [
        {
          "output_type": "execute_result",
          "data": {
            "text/plain": [
              "<tf.Tensor: shape=(36,), dtype=int32, numpy=\n",
              "array([ 1,  2,  3,  4,  5,  6,  7,  8,  9, 10, 11, 12, 13, 14, 15, 16, 17,\n",
              "       18, 19, 20, 21, 22, 23, 24, 25, 26, 27, 28, 29, 30, 31, 32, 33, 34,\n",
              "       35, 36], dtype=int32)>"
            ]
          },
          "metadata": {},
          "execution_count": 12
        }
      ],
      "source": [
        "tf.constant(numpy_A)"
      ]
    },
    {
      "cell_type": "markdown",
      "metadata": {
        "id": "HhPA-S0EZoys"
      },
      "source": [
        "### Notes: \n",
        "> So the different between numpy and tensor in matrices, numpy can't run on GPU, but tensor can run in GPU"
      ]
    },
    {
      "cell_type": "code",
      "execution_count": null,
      "metadata": {
        "colab": {
          "base_uri": "https://localhost:8080/"
        },
        "id": "Tnndabt4Zm53",
        "outputId": "c28c1b66-346e-423d-fa47-570ecb44b5df"
      },
      "outputs": [
        {
          "output_type": "execute_result",
          "data": {
            "text/plain": [
              "<tf.Tensor: shape=(3, 3, 4), dtype=int32, numpy=\n",
              "array([[[ 1,  2,  3,  4],\n",
              "        [ 5,  6,  7,  8],\n",
              "        [ 9, 10, 11, 12]],\n",
              "\n",
              "       [[13, 14, 15, 16],\n",
              "        [17, 18, 19, 20],\n",
              "        [21, 22, 23, 24]],\n",
              "\n",
              "       [[25, 26, 27, 28],\n",
              "        [29, 30, 31, 32],\n",
              "        [33, 34, 35, 36]]], dtype=int32)>"
            ]
          },
          "metadata": {},
          "execution_count": 13
        }
      ],
      "source": [
        "tf.constant(numpy_A, shape=(3, 3, 4))"
      ]
    },
    {
      "cell_type": "markdown",
      "metadata": {
        "id": "lHiPOhvxBoeS"
      },
      "source": [
        "## Getting information from tensor\n",
        "\n",
        "When dealing with tensor you probably want to be aware of the following attributes:\n",
        "\n",
        "* Shape\n",
        "* Rank\n",
        "* Axis or dimension\n",
        "* Size"
      ]
    },
    {
      "cell_type": "code",
      "execution_count": null,
      "metadata": {
        "colab": {
          "base_uri": "https://localhost:8080/"
        },
        "id": "HHv44F6Xa5SN",
        "outputId": "265408a1-ba11-4b50-8847-524678779fe1"
      },
      "outputs": [
        {
          "output_type": "execute_result",
          "data": {
            "text/plain": [
              "<tf.Tensor: shape=(2, 3, 4, 5), dtype=float32, numpy=\n",
              "array([[[[1., 1., 1., 1., 1.],\n",
              "         [1., 1., 1., 1., 1.],\n",
              "         [1., 1., 1., 1., 1.],\n",
              "         [1., 1., 1., 1., 1.]],\n",
              "\n",
              "        [[1., 1., 1., 1., 1.],\n",
              "         [1., 1., 1., 1., 1.],\n",
              "         [1., 1., 1., 1., 1.],\n",
              "         [1., 1., 1., 1., 1.]],\n",
              "\n",
              "        [[1., 1., 1., 1., 1.],\n",
              "         [1., 1., 1., 1., 1.],\n",
              "         [1., 1., 1., 1., 1.],\n",
              "         [1., 1., 1., 1., 1.]]],\n",
              "\n",
              "\n",
              "       [[[1., 1., 1., 1., 1.],\n",
              "         [1., 1., 1., 1., 1.],\n",
              "         [1., 1., 1., 1., 1.],\n",
              "         [1., 1., 1., 1., 1.]],\n",
              "\n",
              "        [[1., 1., 1., 1., 1.],\n",
              "         [1., 1., 1., 1., 1.],\n",
              "         [1., 1., 1., 1., 1.],\n",
              "         [1., 1., 1., 1., 1.]],\n",
              "\n",
              "        [[1., 1., 1., 1., 1.],\n",
              "         [1., 1., 1., 1., 1.],\n",
              "         [1., 1., 1., 1., 1.],\n",
              "         [1., 1., 1., 1., 1.]]]], dtype=float32)>"
            ]
          },
          "metadata": {},
          "execution_count": 14
        }
      ],
      "source": [
        "rank_4_tensor = tf.ones(shape=(2, 3, 4, 5))\n",
        "rank_4_tensor"
      ]
    },
    {
      "cell_type": "code",
      "execution_count": null,
      "metadata": {
        "colab": {
          "base_uri": "https://localhost:8080/"
        },
        "id": "CiT0Kj0XC1fU",
        "outputId": "8c0efbd4-1ba2-462e-d4ef-af0328a3cb82"
      },
      "outputs": [
        {
          "output_type": "execute_result",
          "data": {
            "text/plain": [
              "<tf.Tensor: shape=(3, 4, 5), dtype=float32, numpy=\n",
              "array([[[1., 1., 1., 1., 1.],\n",
              "        [1., 1., 1., 1., 1.],\n",
              "        [1., 1., 1., 1., 1.],\n",
              "        [1., 1., 1., 1., 1.]],\n",
              "\n",
              "       [[1., 1., 1., 1., 1.],\n",
              "        [1., 1., 1., 1., 1.],\n",
              "        [1., 1., 1., 1., 1.],\n",
              "        [1., 1., 1., 1., 1.]],\n",
              "\n",
              "       [[1., 1., 1., 1., 1.],\n",
              "        [1., 1., 1., 1., 1.],\n",
              "        [1., 1., 1., 1., 1.],\n",
              "        [1., 1., 1., 1., 1.]]], dtype=float32)>"
            ]
          },
          "metadata": {},
          "execution_count": 15
        }
      ],
      "source": [
        "rank_4_tensor[0]"
      ]
    },
    {
      "cell_type": "code",
      "execution_count": null,
      "metadata": {
        "colab": {
          "base_uri": "https://localhost:8080/"
        },
        "id": "PKBelpp2DOWA",
        "outputId": "1ee4382c-df8b-4d47-e417-869ff0310a9c"
      },
      "outputs": [
        {
          "output_type": "execute_result",
          "data": {
            "text/plain": [
              "(TensorShape([2, 3, 4, 5]), 4, <tf.Tensor: shape=(), dtype=int32, numpy=120>)"
            ]
          },
          "metadata": {},
          "execution_count": 16
        }
      ],
      "source": [
        "rank_4_tensor.shape, rank_4_tensor.ndim, tf.size(rank_4_tensor)"
      ]
    },
    {
      "cell_type": "code",
      "execution_count": null,
      "metadata": {
        "colab": {
          "base_uri": "https://localhost:8080/"
        },
        "id": "E0Y7PtejDb1d",
        "outputId": "222a899c-00d5-4554-dff9-62d38853d767"
      },
      "outputs": [
        {
          "output_type": "stream",
          "name": "stdout",
          "text": [
            "Data type every elements : <dtype: 'float32'>\n",
            "Number of dimensions (rank): 4\n",
            "Shape of tensors: (2, 3, 4, 5)\n",
            "Elements along the 0 axis: 2\n",
            "Elements along the last axis: 5\n",
            "Total of number elements of the tensor: 120\n",
            "Total of number elements of the tensor: 120\n"
          ]
        }
      ],
      "source": [
        "print(f'Data type every elements : {rank_4_tensor.dtype}')\n",
        "print(f'Number of dimensions (rank): {rank_4_tensor.ndim}')\n",
        "print(f'Shape of tensors: {rank_4_tensor.shape}')\n",
        "print(f'Elements along the 0 axis: {rank_4_tensor.shape[0]}')\n",
        "print(f'Elements along the last axis: {rank_4_tensor.shape[-1]}')\n",
        "print(f'Total of number elements of the tensor: {tf.size(rank_4_tensor)}')\n",
        "print(f'Total of number elements of the tensor: {tf.size(rank_4_tensor).numpy()}')"
      ]
    },
    {
      "cell_type": "code",
      "execution_count": null,
      "metadata": {
        "colab": {
          "base_uri": "https://localhost:8080/"
        },
        "id": "VUkItGhNXtQV",
        "outputId": "35e5de8c-aeb3-4740-e3ac-31194a428404"
      },
      "outputs": [
        {
          "output_type": "execute_result",
          "data": {
            "text/plain": [
              "<tf.Tensor: shape=(2, 2, 2, 2), dtype=float32, numpy=\n",
              "array([[[[1., 1.],\n",
              "         [1., 1.]],\n",
              "\n",
              "        [[1., 1.],\n",
              "         [1., 1.]]],\n",
              "\n",
              "\n",
              "       [[[1., 1.],\n",
              "         [1., 1.]],\n",
              "\n",
              "        [[1., 1.],\n",
              "         [1., 1.]]]], dtype=float32)>"
            ]
          },
          "metadata": {},
          "execution_count": 18
        }
      ],
      "source": [
        "rank_4_tensor[:2, :2, :2, :2]"
      ]
    },
    {
      "cell_type": "code",
      "execution_count": null,
      "metadata": {
        "colab": {
          "base_uri": "https://localhost:8080/"
        },
        "id": "Uoqy84RbZ3EK",
        "outputId": "4a64d5a2-6bdc-4943-f512-0157fe2dc6e7"
      },
      "outputs": [
        {
          "output_type": "execute_result",
          "data": {
            "text/plain": [
              "<tf.Tensor: shape=(2, 3, 4, 5, 1), dtype=float32, numpy=\n",
              "array([[[[[1.],\n",
              "          [1.],\n",
              "          [1.],\n",
              "          [1.],\n",
              "          [1.]],\n",
              "\n",
              "         [[1.],\n",
              "          [1.],\n",
              "          [1.],\n",
              "          [1.],\n",
              "          [1.]],\n",
              "\n",
              "         [[1.],\n",
              "          [1.],\n",
              "          [1.],\n",
              "          [1.],\n",
              "          [1.]],\n",
              "\n",
              "         [[1.],\n",
              "          [1.],\n",
              "          [1.],\n",
              "          [1.],\n",
              "          [1.]]],\n",
              "\n",
              "\n",
              "        [[[1.],\n",
              "          [1.],\n",
              "          [1.],\n",
              "          [1.],\n",
              "          [1.]],\n",
              "\n",
              "         [[1.],\n",
              "          [1.],\n",
              "          [1.],\n",
              "          [1.],\n",
              "          [1.]],\n",
              "\n",
              "         [[1.],\n",
              "          [1.],\n",
              "          [1.],\n",
              "          [1.],\n",
              "          [1.]],\n",
              "\n",
              "         [[1.],\n",
              "          [1.],\n",
              "          [1.],\n",
              "          [1.],\n",
              "          [1.]]],\n",
              "\n",
              "\n",
              "        [[[1.],\n",
              "          [1.],\n",
              "          [1.],\n",
              "          [1.],\n",
              "          [1.]],\n",
              "\n",
              "         [[1.],\n",
              "          [1.],\n",
              "          [1.],\n",
              "          [1.],\n",
              "          [1.]],\n",
              "\n",
              "         [[1.],\n",
              "          [1.],\n",
              "          [1.],\n",
              "          [1.],\n",
              "          [1.]],\n",
              "\n",
              "         [[1.],\n",
              "          [1.],\n",
              "          [1.],\n",
              "          [1.],\n",
              "          [1.]]]],\n",
              "\n",
              "\n",
              "\n",
              "       [[[[1.],\n",
              "          [1.],\n",
              "          [1.],\n",
              "          [1.],\n",
              "          [1.]],\n",
              "\n",
              "         [[1.],\n",
              "          [1.],\n",
              "          [1.],\n",
              "          [1.],\n",
              "          [1.]],\n",
              "\n",
              "         [[1.],\n",
              "          [1.],\n",
              "          [1.],\n",
              "          [1.],\n",
              "          [1.]],\n",
              "\n",
              "         [[1.],\n",
              "          [1.],\n",
              "          [1.],\n",
              "          [1.],\n",
              "          [1.]]],\n",
              "\n",
              "\n",
              "        [[[1.],\n",
              "          [1.],\n",
              "          [1.],\n",
              "          [1.],\n",
              "          [1.]],\n",
              "\n",
              "         [[1.],\n",
              "          [1.],\n",
              "          [1.],\n",
              "          [1.],\n",
              "          [1.]],\n",
              "\n",
              "         [[1.],\n",
              "          [1.],\n",
              "          [1.],\n",
              "          [1.],\n",
              "          [1.]],\n",
              "\n",
              "         [[1.],\n",
              "          [1.],\n",
              "          [1.],\n",
              "          [1.],\n",
              "          [1.]]],\n",
              "\n",
              "\n",
              "        [[[1.],\n",
              "          [1.],\n",
              "          [1.],\n",
              "          [1.],\n",
              "          [1.]],\n",
              "\n",
              "         [[1.],\n",
              "          [1.],\n",
              "          [1.],\n",
              "          [1.],\n",
              "          [1.]],\n",
              "\n",
              "         [[1.],\n",
              "          [1.],\n",
              "          [1.],\n",
              "          [1.],\n",
              "          [1.]],\n",
              "\n",
              "         [[1.],\n",
              "          [1.],\n",
              "          [1.],\n",
              "          [1.],\n",
              "          [1.]]]]], dtype=float32)>"
            ]
          },
          "metadata": {},
          "execution_count": 19
        }
      ],
      "source": [
        "rank_3_tensor = rank_4_tensor[..., tf.newaxis]\n",
        "rank_3_tensor"
      ]
    },
    {
      "cell_type": "code",
      "execution_count": null,
      "metadata": {
        "colab": {
          "base_uri": "https://localhost:8080/"
        },
        "id": "J79RFsI-qcP9",
        "outputId": "c57e13a2-ae6a-4744-be1c-2165c93d2b1f"
      },
      "outputs": [
        {
          "output_type": "execute_result",
          "data": {
            "text/plain": [
              "TensorShape([2, 3, 4, 5, 1])"
            ]
          },
          "metadata": {},
          "execution_count": 20
        }
      ],
      "source": [
        "rank_3_tensor.shape\n"
      ]
    },
    {
      "cell_type": "code",
      "execution_count": null,
      "metadata": {
        "colab": {
          "base_uri": "https://localhost:8080/"
        },
        "id": "Tailm_D0qheS",
        "outputId": "d1b9a9bb-6973-4027-c354-e2fc7956da42"
      },
      "outputs": [
        {
          "output_type": "execute_result",
          "data": {
            "text/plain": [
              "<tf.Tensor: shape=(2, 3, 4, 5, 1), dtype=float32, numpy=\n",
              "array([[[[[1.],\n",
              "          [1.],\n",
              "          [1.],\n",
              "          [1.],\n",
              "          [1.]],\n",
              "\n",
              "         [[1.],\n",
              "          [1.],\n",
              "          [1.],\n",
              "          [1.],\n",
              "          [1.]],\n",
              "\n",
              "         [[1.],\n",
              "          [1.],\n",
              "          [1.],\n",
              "          [1.],\n",
              "          [1.]],\n",
              "\n",
              "         [[1.],\n",
              "          [1.],\n",
              "          [1.],\n",
              "          [1.],\n",
              "          [1.]]],\n",
              "\n",
              "\n",
              "        [[[1.],\n",
              "          [1.],\n",
              "          [1.],\n",
              "          [1.],\n",
              "          [1.]],\n",
              "\n",
              "         [[1.],\n",
              "          [1.],\n",
              "          [1.],\n",
              "          [1.],\n",
              "          [1.]],\n",
              "\n",
              "         [[1.],\n",
              "          [1.],\n",
              "          [1.],\n",
              "          [1.],\n",
              "          [1.]],\n",
              "\n",
              "         [[1.],\n",
              "          [1.],\n",
              "          [1.],\n",
              "          [1.],\n",
              "          [1.]]],\n",
              "\n",
              "\n",
              "        [[[1.],\n",
              "          [1.],\n",
              "          [1.],\n",
              "          [1.],\n",
              "          [1.]],\n",
              "\n",
              "         [[1.],\n",
              "          [1.],\n",
              "          [1.],\n",
              "          [1.],\n",
              "          [1.]],\n",
              "\n",
              "         [[1.],\n",
              "          [1.],\n",
              "          [1.],\n",
              "          [1.],\n",
              "          [1.]],\n",
              "\n",
              "         [[1.],\n",
              "          [1.],\n",
              "          [1.],\n",
              "          [1.],\n",
              "          [1.]]]],\n",
              "\n",
              "\n",
              "\n",
              "       [[[[1.],\n",
              "          [1.],\n",
              "          [1.],\n",
              "          [1.],\n",
              "          [1.]],\n",
              "\n",
              "         [[1.],\n",
              "          [1.],\n",
              "          [1.],\n",
              "          [1.],\n",
              "          [1.]],\n",
              "\n",
              "         [[1.],\n",
              "          [1.],\n",
              "          [1.],\n",
              "          [1.],\n",
              "          [1.]],\n",
              "\n",
              "         [[1.],\n",
              "          [1.],\n",
              "          [1.],\n",
              "          [1.],\n",
              "          [1.]]],\n",
              "\n",
              "\n",
              "        [[[1.],\n",
              "          [1.],\n",
              "          [1.],\n",
              "          [1.],\n",
              "          [1.]],\n",
              "\n",
              "         [[1.],\n",
              "          [1.],\n",
              "          [1.],\n",
              "          [1.],\n",
              "          [1.]],\n",
              "\n",
              "         [[1.],\n",
              "          [1.],\n",
              "          [1.],\n",
              "          [1.],\n",
              "          [1.]],\n",
              "\n",
              "         [[1.],\n",
              "          [1.],\n",
              "          [1.],\n",
              "          [1.],\n",
              "          [1.]]],\n",
              "\n",
              "\n",
              "        [[[1.],\n",
              "          [1.],\n",
              "          [1.],\n",
              "          [1.],\n",
              "          [1.]],\n",
              "\n",
              "         [[1.],\n",
              "          [1.],\n",
              "          [1.],\n",
              "          [1.],\n",
              "          [1.]],\n",
              "\n",
              "         [[1.],\n",
              "          [1.],\n",
              "          [1.],\n",
              "          [1.],\n",
              "          [1.]],\n",
              "\n",
              "         [[1.],\n",
              "          [1.],\n",
              "          [1.],\n",
              "          [1.],\n",
              "          [1.]]]]], dtype=float32)>"
            ]
          },
          "metadata": {},
          "execution_count": 21
        }
      ],
      "source": [
        "#alternative\n",
        "tf.expand_dims(rank_4_tensor, axis=-1)"
      ]
    },
    {
      "cell_type": "code",
      "execution_count": null,
      "metadata": {
        "colab": {
          "base_uri": "https://localhost:8080/"
        },
        "id": "5Tw8g_XZrA99",
        "outputId": "af547805-4021-48c3-eadf-e4382c5e8dc6"
      },
      "outputs": [
        {
          "output_type": "execute_result",
          "data": {
            "text/plain": [
              "<tf.Tensor: shape=(2, 2), dtype=int32, numpy=\n",
              "array([[2, 4],\n",
              "       [6, 9]], dtype=int32)>"
            ]
          },
          "metadata": {},
          "execution_count": 22
        }
      ],
      "source": [
        "new_tensor = tf.constant([[2, 4],\n",
        "                         [6, 9]])\n",
        "new_tensor"
      ]
    },
    {
      "cell_type": "code",
      "execution_count": null,
      "metadata": {
        "colab": {
          "base_uri": "https://localhost:8080/"
        },
        "id": "Uc5GkrP5rjsh",
        "outputId": "386960ae-8bc6-49e0-f556-57b7dd29a625"
      },
      "outputs": [
        {
          "output_type": "execute_result",
          "data": {
            "text/plain": [
              "<tf.Tensor: shape=(2, 2, 1), dtype=int32, numpy=\n",
              "array([[[2],\n",
              "        [4]],\n",
              "\n",
              "       [[6],\n",
              "        [9]]], dtype=int32)>"
            ]
          },
          "metadata": {},
          "execution_count": 23
        }
      ],
      "source": [
        "new_t_tensor = new_tensor[..., tf.newaxis]\n",
        "new_t_tensor"
      ]
    },
    {
      "cell_type": "code",
      "execution_count": null,
      "metadata": {
        "colab": {
          "base_uri": "https://localhost:8080/"
        },
        "id": "T2h1Go1Lr5Ri",
        "outputId": "a49e46e9-1f8e-4feb-e3d3-82ae79877edd"
      },
      "outputs": [
        {
          "output_type": "execute_result",
          "data": {
            "text/plain": [
              "<tf.Tensor: shape=(2, 2, 1), dtype=int32, numpy=\n",
              "array([[[2],\n",
              "        [4]],\n",
              "\n",
              "       [[6],\n",
              "        [9]]], dtype=int32)>"
            ]
          },
          "metadata": {},
          "execution_count": 24
        }
      ],
      "source": [
        "tf.expand_dims(new_tensor, axis=-1)"
      ]
    },
    {
      "cell_type": "markdown",
      "metadata": {
        "id": "_HSUK75pVCAd"
      },
      "source": [
        "### Manipulating tensor\n",
        "\n",
        "> Basic Operation:  `+`, `-`, `*`, `/`"
      ]
    },
    {
      "cell_type": "code",
      "execution_count": null,
      "metadata": {
        "id": "vGuWE2zwsEwg"
      },
      "outputs": [],
      "source": [
        "#addition\n",
        "tensor_1 = tf.constant([[10, 5], \n",
        "                        [2, 8]])\n",
        "tensor_add = tensor_1 + 10"
      ]
    },
    {
      "cell_type": "code",
      "execution_count": null,
      "metadata": {
        "colab": {
          "base_uri": "https://localhost:8080/"
        },
        "id": "kqO8DYgOV65k",
        "outputId": "b437f8ef-41ce-4c53-db7e-d9142668b484"
      },
      "outputs": [
        {
          "output_type": "execute_result",
          "data": {
            "text/plain": [
              "<tf.Tensor: shape=(2, 2), dtype=int32, numpy=\n",
              "array([[20, 15],\n",
              "       [12, 18]], dtype=int32)>"
            ]
          },
          "metadata": {},
          "execution_count": 26
        }
      ],
      "source": [
        "tensor_add"
      ]
    },
    {
      "cell_type": "code",
      "execution_count": null,
      "metadata": {
        "colab": {
          "base_uri": "https://localhost:8080/"
        },
        "id": "St8EDA4JV8dw",
        "outputId": "d190d44d-6f95-401b-d7c2-0331327b6353"
      },
      "outputs": [
        {
          "output_type": "execute_result",
          "data": {
            "text/plain": [
              "<tf.Tensor: shape=(2, 2), dtype=int32, numpy=\n",
              "array([[100,  50],\n",
              "       [ 20,  80]], dtype=int32)>"
            ]
          },
          "metadata": {},
          "execution_count": 27
        }
      ],
      "source": [
        "#multiplication\n",
        "tensor_multi = tensor_1 * 10\n",
        "tensor_multi"
      ]
    },
    {
      "cell_type": "code",
      "execution_count": null,
      "metadata": {
        "colab": {
          "base_uri": "https://localhost:8080/"
        },
        "id": "rFRd5-0aWq7E",
        "outputId": "9365bf75-8f55-4741-a680-222557c61d51"
      },
      "outputs": [
        {
          "output_type": "execute_result",
          "data": {
            "text/plain": [
              "<tf.Tensor: shape=(2, 2), dtype=int32, numpy=\n",
              "array([[ 0, -5],\n",
              "       [-8, -2]], dtype=int32)>"
            ]
          },
          "metadata": {},
          "execution_count": 28
        }
      ],
      "source": [
        "#subtraction\n",
        "tensor_sub = tensor_1 - 10\n",
        "tensor_sub"
      ]
    },
    {
      "cell_type": "code",
      "execution_count": null,
      "metadata": {
        "colab": {
          "base_uri": "https://localhost:8080/"
        },
        "id": "k9HX8QKmW3cq",
        "outputId": "2bd35167-ffad-4e69-e2c3-23b5b1fe9c6e"
      },
      "outputs": [
        {
          "output_type": "execute_result",
          "data": {
            "text/plain": [
              "<tf.Tensor: shape=(2, 2), dtype=int32, numpy=\n",
              "array([[100,  50],\n",
              "       [ 20,  80]], dtype=int32)>"
            ]
          },
          "metadata": {},
          "execution_count": 29
        }
      ],
      "source": [
        "#multiplication in another way (with TF func)\n",
        "tf.multiply(tensor_1, 10)"
      ]
    },
    {
      "cell_type": "code",
      "execution_count": null,
      "metadata": {
        "colab": {
          "base_uri": "https://localhost:8080/"
        },
        "id": "-4SAZLYvXNWg",
        "outputId": "dad4eec5-a1e4-4de7-fdd3-51f56333358d"
      },
      "outputs": [
        {
          "output_type": "execute_result",
          "data": {
            "text/plain": [
              "<tf.Tensor: shape=(2, 2), dtype=int32, numpy=\n",
              "array([[20, 15],\n",
              "       [12, 18]], dtype=int32)>"
            ]
          },
          "metadata": {},
          "execution_count": 30
        }
      ],
      "source": [
        "#adding in another way (tf func)\n",
        "tf.add(tensor_1, 10)"
      ]
    },
    {
      "cell_type": "markdown",
      "metadata": {
        "id": "ufuW7LgYBefJ"
      },
      "source": [
        "## Tensorflow matrix multiplication\n",
        "\n",
        "You can use `tf.linalg.matmul` for operate this, but you can use only `tf.matmul`\n",
        "\n",
        "### Differences betwek matrix multiplication using tensor and python :\n",
        "* In tensor, we can operate row vs column\n",
        "* When using Python, we just only linear multiply\n",
        "\n",
        "__Example__ :\n"
      ]
    },
    {
      "cell_type": "code",
      "execution_count": null,
      "metadata": {
        "colab": {
          "base_uri": "https://localhost:8080/"
        },
        "id": "g_MrDe9lA_wE",
        "outputId": "53d0054b-9504-4b98-ad76-1591a0e3da95"
      },
      "outputs": [
        {
          "output_type": "execute_result",
          "data": {
            "text/plain": [
              "(<tf.Tensor: shape=(2, 2), dtype=int32, numpy=\n",
              " array([[10,  5],\n",
              "        [ 2,  8]], dtype=int32)>, <tf.Tensor: shape=(2, 2), dtype=int32, numpy=\n",
              " array([[100,  50],\n",
              "        [ 20,  80]], dtype=int32)>)"
            ]
          },
          "metadata": {},
          "execution_count": 31
        }
      ],
      "source": [
        "tensor_1, tensor_multi"
      ]
    },
    {
      "cell_type": "code",
      "execution_count": null,
      "metadata": {
        "colab": {
          "base_uri": "https://localhost:8080/"
        },
        "id": "f4BuqsYsXyXy",
        "outputId": "0be2d205-438a-49ff-b515-822702d6ab6e"
      },
      "outputs": [
        {
          "output_type": "execute_result",
          "data": {
            "text/plain": [
              "<tf.Tensor: shape=(2, 2), dtype=int32, numpy=\n",
              "array([[1100,  900],\n",
              "       [ 360,  740]], dtype=int32)>"
            ]
          },
          "metadata": {},
          "execution_count": 32
        }
      ],
      "source": [
        "#tensorflow matrix multiplication\n",
        "tf.matmul(tensor_multi, tensor_1)"
      ]
    },
    {
      "cell_type": "code",
      "execution_count": null,
      "metadata": {
        "colab": {
          "base_uri": "https://localhost:8080/"
        },
        "id": "JiuLe2cuBJUD",
        "outputId": "d38a4583-dc3b-4994-b2f7-4f78c7ce0c0c"
      },
      "outputs": [
        {
          "output_type": "execute_result",
          "data": {
            "text/plain": [
              "<tf.Tensor: shape=(2, 2), dtype=int32, numpy=\n",
              "array([[1000,  250],\n",
              "       [  40,  640]], dtype=int32)>"
            ]
          },
          "metadata": {},
          "execution_count": 33
        }
      ],
      "source": [
        "#python matrix multiplication \n",
        "tensor_multi * tensor_1"
      ]
    },
    {
      "cell_type": "code",
      "execution_count": null,
      "metadata": {
        "id": "eWLnKtPPBaYz"
      },
      "outputs": [],
      "source": [
        "# create 3x2 matrix\n",
        "x = tf.constant([[3, 2],\n",
        "                 [5, 6],\n",
        "                 [10, 12]])\n",
        "\n",
        "# create 2x3 matrix\n",
        "y = tf.constant([[3, 4, 5],\n",
        "                 [10, 12, 13]])\n"
      ]
    },
    {
      "cell_type": "code",
      "execution_count": null,
      "metadata": {
        "colab": {
          "base_uri": "https://localhost:8080/"
        },
        "id": "RbDxdDlIDmEn",
        "outputId": "c187b45a-8d80-43af-d9d2-e701e7495ed2"
      },
      "outputs": [
        {
          "output_type": "execute_result",
          "data": {
            "text/plain": [
              "<tf.Tensor: shape=(3, 3), dtype=int32, numpy=\n",
              "array([[ 29,  36,  41],\n",
              "       [ 75,  92, 103],\n",
              "       [150, 184, 206]], dtype=int32)>"
            ]
          },
          "metadata": {},
          "execution_count": 35
        }
      ],
      "source": [
        "# multiply 3x2 x 2x3\n",
        "multiply_mat = tf.matmul(x, y)\n",
        "multiply_mat"
      ]
    },
    {
      "cell_type": "code",
      "execution_count": null,
      "metadata": {
        "colab": {
          "base_uri": "https://localhost:8080/"
        },
        "id": "V1LLoE8fDwOF",
        "outputId": "2c4c44cc-68a3-4c79-ad7c-2ea2b305dbc0"
      },
      "outputs": [
        {
          "output_type": "execute_result",
          "data": {
            "text/plain": [
              "<tf.Tensor: shape=(2, 2), dtype=int32, numpy=\n",
              "array([[ 79,  90],\n",
              "       [220, 248]], dtype=int32)>"
            ]
          },
          "metadata": {},
          "execution_count": 36
        }
      ],
      "source": [
        "# multiply 2x3 x 3x2  \n",
        "l = [0, 1, 4, 9, 16, 20]\n",
        "multiply_mat2 = tf.matmul(y, x)\n",
        "multiply_mat2\n"
      ]
    },
    {
      "cell_type": "code",
      "execution_count": null,
      "metadata": {
        "colab": {
          "base_uri": "https://localhost:8080/"
        },
        "id": "R_jOdEmzEDxO",
        "outputId": "f426e39a-8864-4a48-e4b9-fe476eb1ca53"
      },
      "outputs": [
        {
          "output_type": "execute_result",
          "data": {
            "text/plain": [
              "(<tf.Tensor: shape=(2, 3), dtype=int32, numpy=\n",
              " array([[ 3,  4,  5],\n",
              "        [10, 12, 13]], dtype=int32)>,\n",
              " <tf.Tensor: shape=(3, 2), dtype=int32, numpy=\n",
              " array([[ 3,  4],\n",
              "        [ 5, 10],\n",
              "        [12, 13]], dtype=int32)>)"
            ]
          },
          "metadata": {},
          "execution_count": 37
        }
      ],
      "source": [
        "#using tf.reshape\n",
        "y, tf.reshape(y, shape=(3, 2))"
      ]
    },
    {
      "cell_type": "code",
      "execution_count": null,
      "metadata": {
        "colab": {
          "base_uri": "https://localhost:8080/"
        },
        "id": "-vUe8l5-a87c",
        "outputId": "a0470321-36a8-4513-b9b3-b8449427d5f6"
      },
      "outputs": [
        {
          "output_type": "execute_result",
          "data": {
            "text/plain": [
              "<tf.Tensor: shape=(3, 2), dtype=int32, numpy=\n",
              "array([[ 3, 10],\n",
              "       [ 4, 12],\n",
              "       [ 5, 13]], dtype=int32)>"
            ]
          },
          "metadata": {},
          "execution_count": 38
        }
      ],
      "source": [
        "# we can do transpose\n",
        "tf.transpose(y)"
      ]
    },
    {
      "cell_type": "markdown",
      "metadata": {
        "id": "4lcTCjtoiDhz"
      },
      "source": [
        "### Dot Product matrix"
      ]
    },
    {
      "cell_type": "code",
      "execution_count": null,
      "metadata": {
        "id": "kYU209pfcsm-"
      },
      "outputs": [],
      "source": [
        "matrix_1 = tf.constant([[1, 2],\n",
        "                        [3, 4],\n",
        "                        [5, 6]])\n",
        "matrix_2 = tf.constant([[7, 8],\n",
        "                        [9, 10],\n",
        "                        [11, 12]])"
      ]
    },
    {
      "cell_type": "code",
      "execution_count": null,
      "metadata": {
        "colab": {
          "base_uri": "https://localhost:8080/"
        },
        "id": "wO5Rrg8EjMJu",
        "outputId": "36ebe009-68b0-4804-e92f-744fd0d21cd4"
      },
      "outputs": [
        {
          "output_type": "execute_result",
          "data": {
            "text/plain": [
              "<tf.Tensor: shape=(2, 2), dtype=int32, numpy=\n",
              "array([[ 89,  98],\n",
              "       [116, 128]], dtype=int32)>"
            ]
          },
          "metadata": {},
          "execution_count": 40
        }
      ],
      "source": [
        "tf.tensordot(tf.transpose(matrix_1), matrix_2, axes=1)"
      ]
    },
    {
      "cell_type": "code",
      "execution_count": null,
      "metadata": {
        "colab": {
          "base_uri": "https://localhost:8080/"
        },
        "id": "HvYgqpHcjb0T",
        "outputId": "a3f2ad53-3d2d-4abc-82c3-7d6cbcc451e4"
      },
      "outputs": [
        {
          "output_type": "execute_result",
          "data": {
            "text/plain": [
              "<tf.Tensor: shape=(2, 2), dtype=int32, numpy=\n",
              "array([[ 89,  98],\n",
              "       [116, 128]], dtype=int32)>"
            ]
          },
          "metadata": {},
          "execution_count": 41
        }
      ],
      "source": [
        "tf.matmul(tf.transpose(matrix_1), matrix_2)"
      ]
    },
    {
      "cell_type": "markdown",
      "metadata": {
        "id": "S2hNwf7Mzc-8"
      },
      "source": [
        "### Changing the datatypes of a tensor\n",
        "\n",
        "> It can make more faster and less memory usage "
      ]
    },
    {
      "cell_type": "code",
      "execution_count": null,
      "metadata": {
        "colab": {
          "base_uri": "https://localhost:8080/"
        },
        "id": "XFu0xgd4n0MN",
        "outputId": "fcc0d4e4-e61b-489e-a0fd-eba582b58b58"
      },
      "outputs": [
        {
          "output_type": "execute_result",
          "data": {
            "text/plain": [
              "(<tf.Tensor: shape=(2,), dtype=int32, numpy=array([5, 6], dtype=int32)>,\n",
              " tf.int32)"
            ]
          },
          "metadata": {},
          "execution_count": 42
        }
      ],
      "source": [
        "numb_1 = tf.constant([5, 6])\n",
        "numb_1, numb_1.dtype"
      ]
    },
    {
      "cell_type": "code",
      "execution_count": null,
      "metadata": {
        "colab": {
          "base_uri": "https://localhost:8080/"
        },
        "id": "VRVUXq5a1KD3",
        "outputId": "45f41609-15e3-4bfd-dacb-d9d87f97952c"
      },
      "outputs": [
        {
          "output_type": "execute_result",
          "data": {
            "text/plain": [
              "(<tf.Tensor: shape=(2,), dtype=int16, numpy=array([5, 6], dtype=int16)>,\n",
              " <tf.Tensor: shape=(2,), dtype=int16, numpy=array([5, 6], dtype=int16)>)"
            ]
          },
          "metadata": {},
          "execution_count": 43
        }
      ],
      "source": [
        "#change int32 to int16 \n",
        "numb_1_converted = tf.cast(numb_1, dtype=tf.int16)\n",
        "numb_1_converted, numb_1_converted"
      ]
    },
    {
      "cell_type": "code",
      "execution_count": null,
      "metadata": {
        "colab": {
          "base_uri": "https://localhost:8080/"
        },
        "id": "Dx-7YE601h-o",
        "outputId": "64a84ddd-1a2b-4e59-cf34-de351ff6634b"
      },
      "outputs": [
        {
          "output_type": "execute_result",
          "data": {
            "text/plain": [
              "(<tf.Tensor: shape=(2,), dtype=float32, numpy=array([5.1, 6.2], dtype=float32)>,\n",
              " tf.float32)"
            ]
          },
          "metadata": {},
          "execution_count": 44
        }
      ],
      "source": [
        "numb_2 = tf.constant([5.1, 6.2])\n",
        "numb_2, numb_2.dtype"
      ]
    },
    {
      "cell_type": "code",
      "execution_count": null,
      "metadata": {
        "colab": {
          "base_uri": "https://localhost:8080/"
        },
        "id": "d741UMLd11E0",
        "outputId": "bb9271c9-f008-4d9e-b9b3-a5e515c483da"
      },
      "outputs": [
        {
          "output_type": "execute_result",
          "data": {
            "text/plain": [
              "(<tf.Tensor: shape=(2,), dtype=float16, numpy=array([5.1, 6.2], dtype=float16)>,\n",
              " <tf.Tensor: shape=(2,), dtype=float16, numpy=array([5.1, 6.2], dtype=float16)>)"
            ]
          },
          "metadata": {},
          "execution_count": 45
        }
      ],
      "source": [
        "#change flaot32 to float16 \n",
        "numb_2_converted = tf.cast(numb_2, dtype=tf.float16)\n",
        "numb_2_converted, numb_2_converted"
      ]
    },
    {
      "cell_type": "markdown",
      "metadata": {
        "id": "aZdD9etPdiFv"
      },
      "source": [
        "### Agregating Tensor\n",
        "\n",
        "Agregating = condensing them from multiple values down to a smaller amount of values"
      ]
    },
    {
      "cell_type": "code",
      "execution_count": null,
      "metadata": {
        "colab": {
          "base_uri": "https://localhost:8080/"
        },
        "id": "tYdgkHlUdh2w",
        "outputId": "ff10eba3-1e63-46b0-8c0c-84598b549f73"
      },
      "outputs": [
        {
          "output_type": "execute_result",
          "data": {
            "text/plain": [
              "<tf.Tensor: shape=(2,), dtype=int32, numpy=array([ -7, -10], dtype=int32)>"
            ]
          },
          "metadata": {},
          "execution_count": 46
        }
      ],
      "source": [
        "# get the absolute values\n",
        "D = tf.constant([-7, -10])\n",
        "D"
      ]
    },
    {
      "cell_type": "code",
      "execution_count": null,
      "metadata": {
        "colab": {
          "base_uri": "https://localhost:8080/"
        },
        "id": "sOMpm_UWeAcd",
        "outputId": "353a632e-4445-438f-b76a-15907c90e1d6"
      },
      "outputs": [
        {
          "output_type": "execute_result",
          "data": {
            "text/plain": [
              "<tf.Tensor: shape=(2,), dtype=int32, numpy=array([ 7, 10], dtype=int32)>"
            ]
          },
          "metadata": {},
          "execution_count": 47
        }
      ],
      "source": [
        "# get the avsolute values\n",
        "tf.abs(D)"
      ]
    },
    {
      "cell_type": "markdown",
      "metadata": {
        "id": "iMIqvZDCek2e"
      },
      "source": [
        "Lets go through the following forms of aggregation:\n",
        "* Get the maximum\n",
        "* Get the minimum\n",
        "* Get the mean of a tensor\n",
        "* Get the sum of a tensor\n"
      ]
    },
    {
      "cell_type": "code",
      "execution_count": null,
      "metadata": {
        "colab": {
          "base_uri": "https://localhost:8080/"
        },
        "id": "TmWp3nCMeYYB",
        "outputId": "0770430f-61cb-41e2-e190-28fc6a917140"
      },
      "outputs": [
        {
          "output_type": "execute_result",
          "data": {
            "text/plain": [
              "<tf.Tensor: shape=(50,), dtype=int64, numpy=\n",
              "array([70, 11, 89, 41, 53, 69, 27, 16,  0,  2, 22, 77, 10, 52, 76, 10,  7,\n",
              "       81, 32, 50,  8, 69, 41, 52, 38, 18, 52, 30, 11, 60, 34, 93, 96, 92,\n",
              "       18, 23, 98, 60, 47, 33, 20, 18, 90, 25, 47, 77, 72, 90,  9, 95])>"
            ]
          },
          "metadata": {},
          "execution_count": 48
        }
      ],
      "source": [
        "# create a random tensor with values between 0 and 100 of size 50\n",
        "E = tf.constant(np.random.randint(0, 100, size=50))\n",
        "E\n"
      ]
    },
    {
      "cell_type": "code",
      "execution_count": null,
      "metadata": {
        "colab": {
          "base_uri": "https://localhost:8080/"
        },
        "id": "ol2cbRbOfGKv",
        "outputId": "6becd49b-4129-451c-f00b-0fbec20e47e6"
      },
      "outputs": [
        {
          "output_type": "execute_result",
          "data": {
            "text/plain": [
              "(<tf.Tensor: shape=(), dtype=int32, numpy=50>, TensorShape([50]), 1)"
            ]
          },
          "metadata": {},
          "execution_count": 49
        }
      ],
      "source": [
        "tf.size(E), E.shape, E.ndim"
      ]
    },
    {
      "cell_type": "code",
      "execution_count": null,
      "metadata": {
        "colab": {
          "base_uri": "https://localhost:8080/"
        },
        "id": "RpAn3r-pfQMD",
        "outputId": "170424fb-01cb-4116-ec52-bb4fdf3e3f61"
      },
      "outputs": [
        {
          "output_type": "execute_result",
          "data": {
            "text/plain": [
              "<tf.Tensor: shape=(), dtype=int64, numpy=0>"
            ]
          },
          "metadata": {},
          "execution_count": 50
        }
      ],
      "source": [
        "# find the minimum\n",
        "tf.reduce_min(E)"
      ]
    },
    {
      "cell_type": "code",
      "execution_count": null,
      "metadata": {
        "colab": {
          "base_uri": "https://localhost:8080/"
        },
        "id": "X3TwkXIifW9B",
        "outputId": "65944692-046d-4bcb-9fd7-add8055dcbec"
      },
      "outputs": [
        {
          "output_type": "execute_result",
          "data": {
            "text/plain": [
              "0"
            ]
          },
          "metadata": {},
          "execution_count": 51
        }
      ],
      "source": [
        "#using numpi\n",
        "np.min(E)\n"
      ]
    },
    {
      "cell_type": "code",
      "execution_count": null,
      "metadata": {
        "colab": {
          "base_uri": "https://localhost:8080/"
        },
        "id": "tp2XDh1DfcsM",
        "outputId": "74c68706-4469-49fb-8d64-72d4e953087e"
      },
      "outputs": [
        {
          "output_type": "execute_result",
          "data": {
            "text/plain": [
              "<tf.Tensor: shape=(), dtype=int64, numpy=98>"
            ]
          },
          "metadata": {},
          "execution_count": 52
        }
      ],
      "source": [
        "#find max\n",
        "tf.reduce_max(E)"
      ]
    },
    {
      "cell_type": "code",
      "execution_count": null,
      "metadata": {
        "colab": {
          "base_uri": "https://localhost:8080/"
        },
        "id": "WEKwRs9HfirA",
        "outputId": "c2673ad8-31e8-4885-dc2a-90685f903435"
      },
      "outputs": [
        {
          "output_type": "execute_result",
          "data": {
            "text/plain": [
              "<tf.Tensor: shape=(), dtype=int64, numpy=46>"
            ]
          },
          "metadata": {},
          "execution_count": 53
        }
      ],
      "source": [
        "tf.reduce_mean(E)"
      ]
    },
    {
      "cell_type": "code",
      "execution_count": null,
      "metadata": {
        "colab": {
          "base_uri": "https://localhost:8080/"
        },
        "id": "KbUWKddZfmfs",
        "outputId": "3adced45-43e4-45e5-d1ee-b37f1f3b9a7e"
      },
      "outputs": [
        {
          "output_type": "execute_result",
          "data": {
            "text/plain": [
              "<tf.Tensor: shape=(), dtype=int64, numpy=2311>"
            ]
          },
          "metadata": {},
          "execution_count": 54
        }
      ],
      "source": [
        "tf.reduce_sum(E)"
      ]
    },
    {
      "cell_type": "code",
      "execution_count": null,
      "metadata": {
        "colab": {
          "base_uri": "https://localhost:8080/"
        },
        "id": "iJYq1vjIfp_c",
        "outputId": "7f73caff-0587-45b3-9eb7-5a56efebb81a"
      },
      "outputs": [
        {
          "output_type": "execute_result",
          "data": {
            "text/plain": [
              "<tf.Tensor: shape=(), dtype=float32, numpy=894.2916>"
            ]
          },
          "metadata": {},
          "execution_count": 55
        }
      ],
      "source": [
        "# variance\n",
        "Evar = tf.cast(E, dtype=tf.float32)\n",
        "tf.math.reduce_variance(Evar)"
      ]
    },
    {
      "cell_type": "code",
      "execution_count": null,
      "metadata": {
        "colab": {
          "base_uri": "https://localhost:8080/"
        },
        "id": "43PJro0pf3QW",
        "outputId": "496ff51b-257a-4b91-e27e-2de0c4323cd5"
      },
      "outputs": [
        {
          "output_type": "execute_result",
          "data": {
            "text/plain": [
              "<tf.Tensor: shape=(), dtype=float32, numpy=29.904709>"
            ]
          },
          "metadata": {},
          "execution_count": 56
        }
      ],
      "source": [
        "#standar deviation\n",
        "tf.math.reduce_std(Evar)"
      ]
    },
    {
      "cell_type": "markdown",
      "metadata": {
        "id": "rKA1DS4ah6Di"
      },
      "source": [
        "> Note : If you want search an std or variance, you must change the type of data should be `float`"
      ]
    },
    {
      "cell_type": "code",
      "execution_count": null,
      "metadata": {
        "id": "3bbANCW5iD4H"
      },
      "outputs": [],
      "source": [
        "import tensorflow_probability as tfp"
      ]
    },
    {
      "cell_type": "code",
      "execution_count": null,
      "metadata": {
        "colab": {
          "base_uri": "https://localhost:8080/"
        },
        "id": "qwdikVwp_e1Z",
        "outputId": "9d78e9a9-6621-49df-dd3d-019cb6e9e763"
      },
      "outputs": [
        {
          "output_type": "execute_result",
          "data": {
            "text/plain": [
              "<tf.Tensor: shape=(), dtype=int64, numpy=894>"
            ]
          },
          "metadata": {},
          "execution_count": 58
        }
      ],
      "source": [
        "#variance using tfp\n",
        "tfp.stats.variance(E)"
      ]
    },
    {
      "cell_type": "markdown",
      "metadata": {
        "id": "4ovG16hKCmu7"
      },
      "source": [
        "### Finding positional Max and Min"
      ]
    },
    {
      "cell_type": "code",
      "execution_count": null,
      "metadata": {
        "colab": {
          "base_uri": "https://localhost:8080/"
        },
        "id": "Awo5ekk6_4Bi",
        "outputId": "e768ba13-f063-4b62-d7aa-ae8e6985653f"
      },
      "outputs": [
        {
          "output_type": "execute_result",
          "data": {
            "text/plain": [
              "<tf.Tensor: shape=(50,), dtype=float32, numpy=\n",
              "array([0.48913598, 0.30816448, 0.8261548 , 0.25587916, 0.2993518 ,\n",
              "       0.2643453 , 0.21094537, 0.22731137, 0.01557994, 0.12873471,\n",
              "       0.3316598 , 0.42108238, 0.8701608 , 0.65981686, 0.5743673 ,\n",
              "       0.6854216 , 0.6515837 , 0.19545841, 0.1441735 , 0.9233247 ,\n",
              "       0.42670476, 0.8457639 , 0.3934058 , 0.9006833 , 0.47969007,\n",
              "       0.6867969 , 0.67909396, 0.7238083 , 0.7927431 , 0.47818553,\n",
              "       0.47793758, 0.28856158, 0.69985783, 0.5915674 , 0.01672316,\n",
              "       0.49891758, 0.38331974, 0.6024455 , 0.60487247, 0.51338553,\n",
              "       0.21195805, 0.507064  , 0.27594423, 0.34573162, 0.01471639,\n",
              "       0.47635663, 0.8088087 , 0.08854103, 0.77666366, 0.00165653],\n",
              "      dtype=float32)>"
            ]
          },
          "metadata": {},
          "execution_count": 59
        }
      ],
      "source": [
        "tf.random.set_seed(45)\n",
        "F = tf.random.uniform(shape=[50])\n",
        "F"
      ]
    },
    {
      "cell_type": "code",
      "execution_count": null,
      "metadata": {
        "colab": {
          "base_uri": "https://localhost:8080/"
        },
        "id": "mtQU26Y3DINa",
        "outputId": "e2f21165-31b5-45f6-ef2f-2bb96aeb3e1a"
      },
      "outputs": [
        {
          "output_type": "execute_result",
          "data": {
            "text/plain": [
              "<tf.Tensor: shape=(), dtype=int64, numpy=19>"
            ]
          },
          "metadata": {},
          "execution_count": 60
        }
      ],
      "source": [
        "#find the positional maximum\n",
        "tf.argmax(F)"
      ]
    },
    {
      "cell_type": "code",
      "execution_count": null,
      "metadata": {
        "colab": {
          "base_uri": "https://localhost:8080/"
        },
        "id": "leJb9dIJDvHH",
        "outputId": "7afedba6-95a4-4db5-f78a-9186eaa6e9c6"
      },
      "outputs": [
        {
          "output_type": "execute_result",
          "data": {
            "text/plain": [
              "<tf.Tensor: shape=(), dtype=float32, numpy=0.9233247>"
            ]
          },
          "metadata": {},
          "execution_count": 61
        }
      ],
      "source": [
        "#index on our largest value position\n",
        "F[tf.argmax(F)]"
      ]
    },
    {
      "cell_type": "code",
      "execution_count": null,
      "metadata": {
        "colab": {
          "base_uri": "https://localhost:8080/"
        },
        "id": "GlCvAy0kFy94",
        "outputId": "732f0756-d0fe-448a-8ebc-351cc9642374"
      },
      "outputs": [
        {
          "output_type": "execute_result",
          "data": {
            "text/plain": [
              "<tf.Tensor: shape=(), dtype=float32, numpy=0.9233247>"
            ]
          },
          "metadata": {},
          "execution_count": 62
        }
      ],
      "source": [
        "# find the max value of F\n",
        "\n",
        "tf.reduce_max(F)"
      ]
    },
    {
      "cell_type": "code",
      "execution_count": null,
      "metadata": {
        "id": "-AhyJdWLF60e"
      },
      "outputs": [],
      "source": [
        "#check equality\n",
        "assert F[tf.argmax(F)] == tf.reduce_max(F)"
      ]
    },
    {
      "cell_type": "code",
      "execution_count": null,
      "metadata": {
        "colab": {
          "base_uri": "https://localhost:8080/"
        },
        "id": "nT9JzY0wGHAL",
        "outputId": "3f774874-b483-414e-ba2a-75672c6beaad"
      },
      "outputs": [
        {
          "output_type": "execute_result",
          "data": {
            "text/plain": [
              "<tf.Tensor: shape=(), dtype=int64, numpy=49>"
            ]
          },
          "metadata": {},
          "execution_count": 64
        }
      ],
      "source": [
        "#find index minimum\n",
        "tf.argmin(F)"
      ]
    },
    {
      "cell_type": "code",
      "execution_count": null,
      "metadata": {
        "colab": {
          "base_uri": "https://localhost:8080/"
        },
        "id": "e7n6M1PpGZpI",
        "outputId": "f49f7b36-ddd2-440d-9a72-a1d4db349d1e"
      },
      "outputs": [
        {
          "output_type": "execute_result",
          "data": {
            "text/plain": [
              "<tf.Tensor: shape=(), dtype=float32, numpy=0.0016565323>"
            ]
          },
          "metadata": {},
          "execution_count": 65
        }
      ],
      "source": [
        "#find the value of index\n",
        "F[tf.argmin(F)]"
      ]
    },
    {
      "cell_type": "markdown",
      "metadata": {
        "id": "rBKR3BZQGtqc"
      },
      "source": [
        "### Squeezing a tensor (removing all single dimensions)"
      ]
    },
    {
      "cell_type": "code",
      "execution_count": null,
      "metadata": {
        "colab": {
          "base_uri": "https://localhost:8080/"
        },
        "id": "A4-O8LMvGb_B",
        "outputId": "35bd2158-a0f3-49f4-a4e2-ad255fc6f4a0"
      },
      "outputs": [
        {
          "output_type": "execute_result",
          "data": {
            "text/plain": [
              "<tf.Tensor: shape=(1, 1, 1, 1, 50), dtype=float32, numpy=\n",
              "array([[[[[0.94196117, 0.1697309 , 0.5064962 , 0.27598453, 0.899318  ,\n",
              "           0.4486513 , 0.43584716, 0.71771336, 0.85751176, 0.12559032,\n",
              "           0.0875535 , 0.85261035, 0.17349517, 0.31913245, 0.4845121 ,\n",
              "           0.5540675 , 0.6620537 , 0.20845115, 0.43225408, 0.9061552 ,\n",
              "           0.52628434, 0.30039036, 0.5774927 , 0.5814352 , 0.7920803 ,\n",
              "           0.396855  , 0.02649951, 0.43159127, 0.11073196, 0.5804652 ,\n",
              "           0.83437836, 0.17531359, 0.5109179 , 0.91586626, 0.21497321,\n",
              "           0.41104853, 0.7946409 , 0.30716085, 0.3172475 , 0.15829349,\n",
              "           0.5417241 , 0.49205697, 0.19820452, 0.25472498, 0.2333138 ,\n",
              "           0.2071842 , 0.5443722 , 0.01052618, 0.57121956, 0.33880603]]]]],\n",
              "      dtype=float32)>"
            ]
          },
          "metadata": {},
          "execution_count": 66
        }
      ],
      "source": [
        "tf.random.set_seed(50)\n",
        "G = tf.constant(tf.random.uniform(shape=[50]), shape=(1, 1, 1, 1, 50))\n",
        "G"
      ]
    },
    {
      "cell_type": "code",
      "execution_count": null,
      "metadata": {
        "colab": {
          "base_uri": "https://localhost:8080/"
        },
        "id": "6A8hq7OwHLbA",
        "outputId": "737bcf73-704e-4a00-a43d-9977a8d93092"
      },
      "outputs": [
        {
          "output_type": "execute_result",
          "data": {
            "text/plain": [
              "TensorShape([1, 1, 1, 1, 50])"
            ]
          },
          "metadata": {},
          "execution_count": 67
        }
      ],
      "source": [
        "G.shape"
      ]
    },
    {
      "cell_type": "code",
      "execution_count": null,
      "metadata": {
        "id": "LpRoVm32Hi3D",
        "colab": {
          "base_uri": "https://localhost:8080/"
        },
        "outputId": "027b1ae1-aa18-4f0a-c2c9-ce32343736b1"
      },
      "outputs": [
        {
          "output_type": "execute_result",
          "data": {
            "text/plain": [
              "<tf.Tensor: shape=(50,), dtype=float32, numpy=\n",
              "array([0.94196117, 0.1697309 , 0.5064962 , 0.27598453, 0.899318  ,\n",
              "       0.4486513 , 0.43584716, 0.71771336, 0.85751176, 0.12559032,\n",
              "       0.0875535 , 0.85261035, 0.17349517, 0.31913245, 0.4845121 ,\n",
              "       0.5540675 , 0.6620537 , 0.20845115, 0.43225408, 0.9061552 ,\n",
              "       0.52628434, 0.30039036, 0.5774927 , 0.5814352 , 0.7920803 ,\n",
              "       0.396855  , 0.02649951, 0.43159127, 0.11073196, 0.5804652 ,\n",
              "       0.83437836, 0.17531359, 0.5109179 , 0.91586626, 0.21497321,\n",
              "       0.41104853, 0.7946409 , 0.30716085, 0.3172475 , 0.15829349,\n",
              "       0.5417241 , 0.49205697, 0.19820452, 0.25472498, 0.2333138 ,\n",
              "       0.2071842 , 0.5443722 , 0.01052618, 0.57121956, 0.33880603],\n",
              "      dtype=float32)>"
            ]
          },
          "metadata": {},
          "execution_count": 68
        }
      ],
      "source": [
        "G_squeezed = tf.squeeze(G)\n",
        "G_squeezed"
      ]
    }
  ],
  "metadata": {
    "colab": {
      "name": "TensorFlow_Fundamental.ipynb",
      "provenance": []
    },
    "kernelspec": {
      "display_name": "Python 3",
      "name": "python3"
    },
    "language_info": {
      "name": "python"
    }
  },
  "nbformat": 4,
  "nbformat_minor": 0
}